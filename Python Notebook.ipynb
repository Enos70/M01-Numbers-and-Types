{
 "cells": [
  {
   "cell_type": "markdown",
   "id": "39886cf3-9f7d-4320-bf27-c9c53272bbe4",
   "metadata": {},
   "source": [
    "# Assignment: M01 Numbers and Types\n",
    "## Author: Firisiya Chiomadzi\n",
    "### Date: 03/24/2024"
   ]
  },
  {
   "cell_type": "code",
   "execution_count": 1,
   "id": "64fb50cf-155c-4f2b-a68d-ebfa24b15ea5",
   "metadata": {},
   "outputs": [
    {
     "name": "stdout",
     "output_type": "stream",
     "text": [
      "3600\n"
     ]
    }
   ],
   "source": [
    "# 3.1 How many seconds are in an hour?\n",
    "# Use the interactive interpreter as a calculator and multiply the number of seconds in a minute (60) by the number of minutes in an hour (also 60).\n",
    "seconds_in_minute = 60\n",
    "minutes_in_hour = 60\n",
    "seconds_in_hour = seconds_in_minute * minutes_in_hour\n",
    "print(seconds_in_hour)  # Output should be 3600"
   ]
  },
  {
   "cell_type": "markdown",
   "id": "7c3246d0-0a80-4ff3-8664-5e58360e10eb",
   "metadata": {},
   "source": [
    "### Answer to 3.1:\r\n",
    "There are 3600 seconds in an hour."
   ]
  },
  {
   "cell_type": "code",
   "execution_count": null,
   "id": "9ae1ac5e-d727-4ba3-8425-3f85dbadd42f",
   "metadata": {},
   "outputs": [],
   "source": [
    "# 3.2 Assign the result from the previous task (seconds in an hour) to a variable called seconds_per_hour.\n",
    "seconds_per_hour = seconds_in_hour\n",
    "print(seconds_per_hour)  # Output should be 3600"
   ]
  },
  {
   "cell_type": "markdown",
   "id": "096a9efc-e2cd-4ca2-9900-3fbd8ac9a61e",
   "metadata": {},
   "source": [
    "### Answer to 3.2:\r\n",
    "There are 3600 seconds in an hour."
   ]
  },
  {
   "cell_type": "code",
   "execution_count": null,
   "id": "95429fb8-1bda-4a61-a6cf-188606f52943",
   "metadata": {},
   "outputs": [],
   "source": [
    "# 3.3 How many seconds are in a day?\n",
    "# Use your seconds_per_hour variable.\n",
    "hours_in_day = 24\n",
    "seconds_in_day = seconds_per_hour * hours_in_day\n",
    "print(seconds_in_day)  # Output should be 86400"
   ]
  },
  {
   "cell_type": "markdown",
   "id": "143c3ffa-b4a6-4744-be7f-c29f1680f40d",
   "metadata": {},
   "source": [
    "### Answer to 3.3:\n",
    "There are 86400 seconds in a day."
   ]
  },
  {
   "cell_type": "code",
   "execution_count": null,
   "id": "5ba72501-1495-4879-b5c9-f7e10e97a070",
   "metadata": {},
   "outputs": [],
   "source": [
    "# 3.4 Calculate seconds per day again, but this time save the result in a variable called seconds_per_day.\n",
    "seconds_per_day = seconds_per_hour * hours_in_day\n",
    "print(seconds_per_day)  # Output should be 86400"
   ]
  },
  {
   "cell_type": "markdown",
   "id": "8f5ad4e6-ea51-4875-bbf9-a4bf2e9b5ca2",
   "metadata": {},
   "source": [
    "### Answer to 3.4:\n",
    "There are 86400 seconds in a day."
   ]
  },
  {
   "cell_type": "code",
   "execution_count": null,
   "id": "86efd2ee-9436-4dc8-85b3-0b81a4cde3fe",
   "metadata": {},
   "outputs": [],
   "source": [
    "# 3.5 Divide seconds_per_day by seconds_per_hour. Use floating-point (/) division.\n",
    "floating_point_division = seconds_per_day / seconds_per_hour\n",
    "print(floating_point_division)  # Output should be 24.0"
   ]
  },
  {
   "cell_type": "markdown",
   "id": "eca9a5cb-29ca-482f-b52b-d75936f2de26",
   "metadata": {},
   "source": [
    "### Answer to 3.5:\n",
    "The floating point division is 24.0."
   ]
  },
  {
   "cell_type": "code",
   "execution_count": null,
   "id": "29a37a7a-94a1-471e-8756-4b1fa63e58e6",
   "metadata": {},
   "outputs": [],
   "source": [
    "# 3.6 Divide seconds_per_day by seconds_per_hour, using integer (//) division.\n",
    "integer_division = seconds_per_day // seconds_per_hour\n",
    "print(integer_division)  # Output should be 24"
   ]
  },
  {
   "cell_type": "markdown",
   "id": "029593a2-80ca-44b5-92e6-35ef3f738b7b",
   "metadata": {},
   "source": [
    "### Answer to 3.6:\n",
    "The integer division is 24."
   ]
  },
  {
   "cell_type": "code",
   "execution_count": null,
   "id": "3d576006-8dbe-4891-8b68-038d736a32f5",
   "metadata": {},
   "outputs": [],
   "source": []
  }
 ],
 "metadata": {
  "kernelspec": {
   "display_name": "Python 3 (ipykernel)",
   "language": "python",
   "name": "python3"
  },
  "language_info": {
   "codemirror_mode": {
    "name": "ipython",
    "version": 3
   },
   "file_extension": ".py",
   "mimetype": "text/x-python",
   "name": "python",
   "nbconvert_exporter": "python",
   "pygments_lexer": "ipython3",
   "version": "3.11.7"
  }
 },
 "nbformat": 4,
 "nbformat_minor": 5
}
